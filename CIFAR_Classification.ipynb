{
  "cells": [
    {
      "cell_type": "markdown",
      "metadata": {
        "id": "view-in-github",
        "colab_type": "text"
      },
      "source": [
        "<a href=\"https://colab.research.google.com/github/aksamiftikhar/aksamiftikhar/blob/main/CIFAR_Classification.ipynb\" target=\"_parent\"><img src=\"https://colab.research.google.com/assets/colab-badge.svg\" alt=\"Open In Colab\"/></a>"
      ]
    },
    {
      "cell_type": "markdown",
      "metadata": {
        "id": "3wF5wszaj97Y"
      },
      "source": [
        "# TensorFlow model for CIFAR data classification"
      ]
    },
    {
      "cell_type": "markdown",
      "metadata": {
        "id": "nnrWf3PCEzXL"
      },
      "source": [
        "## Set up TensorFlow\n",
        "\n",
        "Import TensorFlow into your program to get started:"
      ]
    },
    {
      "cell_type": "code",
      "execution_count": 1,
      "metadata": {
        "id": "0trJmd6DjqBZ",
        "outputId": "39d84c1d-7609-47a4-8421-f1a2d06d42df",
        "colab": {
          "base_uri": "https://localhost:8080/"
        }
      },
      "outputs": [
        {
          "output_type": "stream",
          "name": "stdout",
          "text": [
            "TensorFlow version: 2.8.0\n"
          ]
        }
      ],
      "source": [
        "import tensorflow as tf\n",
        "import numpy as np\n",
        "import pandas as pd\n",
        "from tensorflow.keras import layers\n",
        "\n",
        "\n",
        "print(\"TensorFlow version:\", tf.__version__)"
      ]
    },
    {
      "cell_type": "markdown",
      "metadata": {
        "id": "7NAbSZiaoJ4z"
      },
      "source": [
        "\n",
        "## Load a dataset\n",
        "\n",
        "Load and prepare the [MNIST dataset](http://yann.lecun.com/exdb/mnist/). Convert the sample data from integers to floating-point numbers:"
      ]
    },
    {
      "cell_type": "code",
      "execution_count": 2,
      "metadata": {
        "id": "7FP5258xjs-v",
        "outputId": "307c5a6b-eee9-4138-a79f-bc14e3f8b4ba",
        "colab": {
          "base_uri": "https://localhost:8080/"
        }
      },
      "outputs": [
        {
          "output_type": "stream",
          "name": "stdout",
          "text": [
            "Downloading data from https://www.cs.toronto.edu/~kriz/cifar-10-python.tar.gz\n",
            "170500096/170498071 [==============================] - 2s 0us/step\n",
            "170508288/170498071 [==============================] - 2s 0us/step\n",
            "uint8 <class 'numpy.ndarray'> (50000, 32, 32, 3) (50000, 1) 255\n",
            "float64 <class 'numpy.ndarray'> (50000, 32, 32, 3) (50000, 1) 1.0\n"
          ]
        }
      ],
      "source": [
        "cifar = tf.keras.datasets.cifar10\n",
        "\n",
        "(x_train, y_train), (x_test, y_test) = cifar.load_data()\n",
        "print(x_train.dtype, type(x_train), x_train.shape, y_train.shape, x_train.max())\n",
        "\n",
        "x_train, x_test = x_train / 255.0, x_test / 255.0\n",
        "print(x_train.dtype, type(x_train), x_train.shape, y_train.shape, x_train.max())\n"
      ]
    },
    {
      "cell_type": "markdown",
      "metadata": {
        "id": "BPZ68wASog_I"
      },
      "source": [
        "## Build a custom machine learning model\n",
        "\n",
        "Build a `tf.keras.Sequential` model by stacking layers."
      ]
    },
    {
      "cell_type": "code",
      "execution_count": 14,
      "metadata": {
        "id": "h3IKyzTCDNGo"
      },
      "outputs": [],
      "source": [
        "# model = tf.keras.models.Sequential([\n",
        "#   tf.keras.layers.Flatten(input_shape=(32, 32, 3)),\n",
        "#   tf.keras.layers.Dense(256, activation='relu'),\n",
        "#   tf.keras.layers.Dropout(0.2),\n",
        "#   tf.keras.layers.Dense(128, activation='relu'),\n",
        "#   tf.keras.layers.Dropout(0.3),\n",
        "#   tf.keras.layers.Dense(64, activation='relu'),\n",
        "#   tf.keras.layers.Dropout(0.2),\n",
        "#   tf.keras.layers.Dense(10)\n",
        "# ])\n",
        "model = tf.keras.Sequential()\n",
        "model.add(layers.Conv2D(128, (3,3), activation='relu', kernel_initializer='glorot_uniform'))\n",
        "# model.add(layers.MaxPool2D())\n",
        "# model.add(layers.Dropout(0.5))\n",
        "model.add(layers.BatchNormalization())\n",
        "model.add(layers.Conv2D(64, (3,3), activation='relu', kernel_initializer='glorot_uniform'))\n",
        "model.add(layers.AveragePooling2D())\n",
        "model.add(layers.Dropout(0.3))\n",
        "model.add(layers.BatchNormalization())\n",
        "model.add(layers.Conv2D(32, (3,3), activation='relu', kernel_initializer='glorot_uniform'))\n",
        "model.add(layers.AveragePooling2D())\n",
        "# model.add(layers.Dropout(0.2))\n",
        "model.add(layers.BatchNormalization())\n",
        "\n",
        "# model.add(layers.Flatten(input_shape=(32,32,3)))\n",
        "model.add(layers.Flatten())\n",
        "model.add(layers.Dense(256, activation='relu'))\n",
        "model.add(layers.Dropout(0.2))\n",
        "model.add(layers.Dense(128))\n",
        "model.add(layers.Dropout(0.3))\n",
        "model.add(layers.Dense(64))\n",
        "model.add(layers.Dropout(0.2))\n",
        "model.add(layers.Dense(10))\n"
      ]
    },
    {
      "cell_type": "markdown",
      "source": [
        "### Before Training:\n",
        "\n",
        "Test the raw output of designed CNN model. Almost all classes have equal probability for all the 10 classes, i.e. 0.1. "
      ],
      "metadata": {
        "id": "I3X5vre9MfBp"
      }
    },
    {
      "cell_type": "code",
      "execution_count": 15,
      "metadata": {
        "id": "OeOrNdnkEEcR",
        "outputId": "86df34dd-8f37-4b29-c622-519f0d6e9b2d",
        "colab": {
          "base_uri": "https://localhost:8080/"
        }
      },
      "outputs": [
        {
          "output_type": "execute_result",
          "data": {
            "text/plain": [
              "array([[ 0.00510827, -0.0927939 ,  0.11784013, -0.11720359, -0.0007416 ,\n",
              "        -0.00041782,  0.07692049, -0.03688416,  0.05850714, -0.07126338]],\n",
              "      dtype=float32)"
            ]
          },
          "metadata": {},
          "execution_count": 15
        }
      ],
      "source": [
        "predictions = model(x_train[:1]).numpy()\n",
        "predictions"
      ]
    },
    {
      "cell_type": "markdown",
      "metadata": {
        "id": "hQyugpgRIyrA"
      },
      "source": [
        "Define a loss function for training using `losses.SparseCategoricalCrossentropy`, which takes a vector of logits and a `True` index and returns a scalar loss for each example."
      ]
    },
    {
      "cell_type": "code",
      "execution_count": 16,
      "metadata": {
        "id": "RSkzdv8MD0tT"
      },
      "outputs": [],
      "source": [
        "loss_fn = tf.keras.losses.SparseCategoricalCrossentropy(from_logits=True)"
      ]
    },
    {
      "cell_type": "markdown",
      "metadata": {
        "id": "SfR4MsSDU880"
      },
      "source": [
        "This loss is equal to the negative log probability of the true class: The loss is zero if the model is sure of the correct class.\n",
        "\n",
        "This untrained model gives probabilities close to random (1/10 for each class), so the initial loss should be close to `-tf.math.log(1/10) ~= 2.3`."
      ]
    },
    {
      "cell_type": "code",
      "execution_count": 17,
      "metadata": {
        "id": "NJWqEVrrJ7ZB",
        "outputId": "e761fd20-0b4e-4923-9db8-abf8ba4e41ae",
        "colab": {
          "base_uri": "https://localhost:8080/"
        }
      },
      "outputs": [
        {
          "output_type": "execute_result",
          "data": {
            "text/plain": [
              "2.2221608"
            ]
          },
          "metadata": {},
          "execution_count": 17
        }
      ],
      "source": [
        "loss_fn(y_train[:1], predictions).numpy()"
      ]
    },
    {
      "cell_type": "markdown",
      "metadata": {
        "id": "ada44eb947d4"
      },
      "source": [
        "Before starting the training, configure and compile the model using Keras `Model.compile`. S"
      ]
    },
    {
      "cell_type": "code",
      "execution_count": 18,
      "metadata": {
        "id": "9foNKHzTD2Vo"
      },
      "outputs": [],
      "source": [
        "model.compile(optimizer=tf.keras.optimizers.SGD(0.01, momentum=0.9), \n",
        "              loss=loss_fn,\n",
        "              metrics=['accuracy'])"
      ]
    },
    {
      "cell_type": "markdown",
      "metadata": {
        "id": "ix4mEL65on-w"
      },
      "source": [
        "## Train and evaluate your model\n",
        "\n",
        "Use the `Model.fit` method to adjust your model parameters and minimize the loss: "
      ]
    },
    {
      "cell_type": "code",
      "execution_count": 19,
      "metadata": {
        "id": "y7suUbJXVLqP",
        "outputId": "0a036f8a-353a-4697-ef17-8da8c737dda7",
        "colab": {
          "base_uri": "https://localhost:8080/"
        }
      },
      "outputs": [
        {
          "output_type": "stream",
          "name": "stdout",
          "text": [
            "Epoch 1/10\n",
            "1563/1563 [==============================] - 24s 14ms/step - loss: 1.6483 - accuracy: 0.4122\n",
            "Epoch 2/10\n",
            "1563/1563 [==============================] - 23s 14ms/step - loss: 1.2965 - accuracy: 0.5402\n",
            "Epoch 3/10\n",
            "1563/1563 [==============================] - 23s 14ms/step - loss: 1.1018 - accuracy: 0.6160\n",
            "Epoch 4/10\n",
            "1563/1563 [==============================] - 22s 14ms/step - loss: 0.9790 - accuracy: 0.6607\n",
            "Epoch 5/10\n",
            "1563/1563 [==============================] - 23s 14ms/step - loss: 0.8708 - accuracy: 0.7010\n",
            "Epoch 6/10\n",
            "1563/1563 [==============================] - 23s 14ms/step - loss: 0.7954 - accuracy: 0.7288\n",
            "Epoch 7/10\n",
            "1563/1563 [==============================] - 23s 14ms/step - loss: 0.7372 - accuracy: 0.7453\n",
            "Epoch 8/10\n",
            "1563/1563 [==============================] - 22s 14ms/step - loss: 0.6962 - accuracy: 0.7614\n",
            "Epoch 9/10\n",
            "1563/1563 [==============================] - 22s 14ms/step - loss: 0.6445 - accuracy: 0.7788\n",
            "Epoch 10/10\n",
            "1563/1563 [==============================] - 22s 14ms/step - loss: 0.6088 - accuracy: 0.7902\n"
          ]
        },
        {
          "output_type": "execute_result",
          "data": {
            "text/plain": [
              "<keras.callbacks.History at 0x7f45d119c9d0>"
            ]
          },
          "metadata": {},
          "execution_count": 19
        }
      ],
      "source": [
        "model.fit(x_train, y_train, epochs=10)"
      ]
    },
    {
      "cell_type": "markdown",
      "metadata": {
        "id": "4mDAAPFqVVgn"
      },
      "source": [
        "Model evaluation using the test set."
      ]
    },
    {
      "cell_type": "code",
      "execution_count": 20,
      "metadata": {
        "id": "F7dTAzgHDUh7",
        "outputId": "c73ff9de-16cc-4028-bbda-c412d077e036",
        "colab": {
          "base_uri": "https://localhost:8080/"
        }
      },
      "outputs": [
        {
          "output_type": "stream",
          "name": "stdout",
          "text": [
            "313/313 - 2s - loss: 0.8173 - accuracy: 0.7447 - 2s/epoch - 8ms/step\n"
          ]
        },
        {
          "output_type": "execute_result",
          "data": {
            "text/plain": [
              "[0.8172644972801208, 0.744700014591217]"
            ]
          },
          "metadata": {},
          "execution_count": 20
        }
      ],
      "source": [
        "model.evaluate(x_test,  y_test, verbose=2)"
      ]
    },
    {
      "cell_type": "markdown",
      "metadata": {
        "id": "T4JfEh7kvx6m"
      },
      "source": [
        "The classifier gives ~75% test accuracy. The training epochs can be increased to further improve the accuracy."
      ]
    }
  ],
  "metadata": {
    "colab": {
      "collapsed_sections": [],
      "name": "CIFAR_Classification.ipynb",
      "provenance": [],
      "include_colab_link": true
    },
    "kernelspec": {
      "display_name": "Python 3",
      "name": "python3"
    },
    "accelerator": "GPU"
  },
  "nbformat": 4,
  "nbformat_minor": 0
}